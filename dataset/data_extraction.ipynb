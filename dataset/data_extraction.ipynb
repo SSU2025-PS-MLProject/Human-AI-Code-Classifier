{
 "cells": [
  {
   "cell_type": "code",
   "execution_count": 1,
   "id": "867d53ae-2409-4268-9d48-076b86bcef28",
   "metadata": {},
   "outputs": [
    {
     "data": {
      "text/html": [
       "<div>\n",
       "<style scoped>\n",
       "    .dataframe tbody tr th:only-of-type {\n",
       "        vertical-align: middle;\n",
       "    }\n",
       "\n",
       "    .dataframe tbody tr th {\n",
       "        vertical-align: top;\n",
       "    }\n",
       "\n",
       "    .dataframe thead th {\n",
       "        text-align: right;\n",
       "    }\n",
       "</style>\n",
       "<table border=\"1\" class=\"dataframe\">\n",
       "  <thead>\n",
       "    <tr style=\"text-align: right;\">\n",
       "      <th></th>\n",
       "      <th>id</th>\n",
       "      <th>name</th>\n",
       "      <th>dataset</th>\n",
       "      <th>time_limit</th>\n",
       "      <th>memory_limit</th>\n",
       "      <th>rating</th>\n",
       "      <th>tags</th>\n",
       "      <th>complexity</th>\n",
       "    </tr>\n",
       "  </thead>\n",
       "  <tbody>\n",
       "    <tr>\n",
       "      <th>0</th>\n",
       "      <td>p00266</td>\n",
       "      <td>Izua Dictionary</td>\n",
       "      <td>AIZU</td>\n",
       "      <td>8000.0</td>\n",
       "      <td>131072.0</td>\n",
       "      <td>NaN</td>\n",
       "      <td>NaN</td>\n",
       "      <td>NaN</td>\n",
       "    </tr>\n",
       "    <tr>\n",
       "      <th>1</th>\n",
       "      <td>p00472</td>\n",
       "      <td>A Traveler</td>\n",
       "      <td>AIZU</td>\n",
       "      <td>8000.0</td>\n",
       "      <td>131072.0</td>\n",
       "      <td>NaN</td>\n",
       "      <td>NaN</td>\n",
       "      <td>NaN</td>\n",
       "    </tr>\n",
       "    <tr>\n",
       "      <th>2</th>\n",
       "      <td>p00473</td>\n",
       "      <td>Dividing Snacks</td>\n",
       "      <td>AIZU</td>\n",
       "      <td>8000.0</td>\n",
       "      <td>131072.0</td>\n",
       "      <td>NaN</td>\n",
       "      <td>NaN</td>\n",
       "      <td>NaN</td>\n",
       "    </tr>\n",
       "    <tr>\n",
       "      <th>3</th>\n",
       "      <td>p00475</td>\n",
       "      <td>Exposition</td>\n",
       "      <td>AIZU</td>\n",
       "      <td>8000.0</td>\n",
       "      <td>131072.0</td>\n",
       "      <td>NaN</td>\n",
       "      <td>NaN</td>\n",
       "      <td>NaN</td>\n",
       "    </tr>\n",
       "    <tr>\n",
       "      <th>4</th>\n",
       "      <td>p00482</td>\n",
       "      <td>JOI Flag</td>\n",
       "      <td>AIZU</td>\n",
       "      <td>8000.0</td>\n",
       "      <td>131072.0</td>\n",
       "      <td>NaN</td>\n",
       "      <td>NaN</td>\n",
       "      <td>NaN</td>\n",
       "    </tr>\n",
       "  </tbody>\n",
       "</table>\n",
       "</div>"
      ],
      "text/plain": [
       "       id             name dataset  time_limit  memory_limit  rating  tags  \\\n",
       "0  p00266  Izua Dictionary    AIZU      8000.0      131072.0     NaN   NaN   \n",
       "1  p00472       A Traveler    AIZU      8000.0      131072.0     NaN   NaN   \n",
       "2  p00473  Dividing Snacks    AIZU      8000.0      131072.0     NaN   NaN   \n",
       "3  p00475       Exposition    AIZU      8000.0      131072.0     NaN   NaN   \n",
       "4  p00482         JOI Flag    AIZU      8000.0      131072.0     NaN   NaN   \n",
       "\n",
       "   complexity  \n",
       "0         NaN  \n",
       "1         NaN  \n",
       "2         NaN  \n",
       "3         NaN  \n",
       "4         NaN  "
      ]
     },
     "execution_count": 1,
     "metadata": {},
     "output_type": "execute_result"
    }
   ],
   "source": [
    "import pandas as pd\n",
    "from datetime import datetime\n",
    "\n",
    "problem_list = pd.read_csv('csv/sample250_problem_list.csv')\n",
    "problem_list.head()"
   ]
  },
  {
   "cell_type": "code",
   "execution_count": 5,
   "id": "e1b3b3e3-74d0-4031-9eb2-c4accd65c1ea",
   "metadata": {},
   "outputs": [
    {
     "name": "stdout",
     "output_type": "stream",
     "text": [
      "    problem_id  submission_count  user_count\n",
      "0       p00266                34           4\n",
      "1       p00472                32          14\n",
      "2       p00473                24           7\n",
      "3       p00475                 1           1\n",
      "4       p00482                 3           1\n",
      "..         ...               ...         ...\n",
      "245     p02049                 0           0\n",
      "246     p02050                 0           0\n",
      "247     p02161                 0           0\n",
      "248     p02172                 0           0\n",
      "249     p03655                12           3\n",
      "\n",
      "[250 rows x 3 columns]\n",
      "(250, 3)\n"
     ]
    }
   ],
   "source": [
    "import pandas as pd\n",
    "import os\n",
    "\n",
    "# 빈 데이터프레임 생성\n",
    "df = pd.DataFrame(columns=['problem_id', 'submission_count', 'user_count'])\n",
    "path = 'C:/Users/user/주피터 파일/문제해결/프로젝트/problem_list/'\n",
    "\n",
    "def random_submission_id_extraction(path, problem_id, i, df):\n",
    "    id_df_path = os.path.join(path, f\"{problem_id}.csv\")\n",
    "    \n",
    "    # 기본값 설정\n",
    "    sub_cnt, user_cnt = 0, 0\n",
    "    \n",
    "    try:\n",
    "        if os.path.exists(id_df_path):\n",
    "            id_df = pd.read_csv(id_df_path)\n",
    "            id_df['date'] = pd.to_datetime(id_df['date'], unit='s')\n",
    "            \n",
    "            filtered = id_df[\n",
    "                (id_df['language'] == 'Python') & \n",
    "                (id_df['date'] <= '2022-12-31')\n",
    "            ]\n",
    "            \n",
    "            sub_cnt = len(filtered)\n",
    "            user_cnt = filtered['user_id'].nunique()\n",
    "            \n",
    "    except Exception as e:\n",
    "        print(f\"{problem_id} 오류: {str(e)}\")\n",
    "    \n",
    "    finally:\n",
    "        df.loc[i] = [problem_id, sub_cnt, user_cnt]\n",
    "\n",
    "# 반복 처리\n",
    "for idx, pid in enumerate(problem_list['id']):\n",
    "    random_submission_id_extraction(\n",
    "        path='C:/Users/user/주피터 파일/문제해결/프로젝트/problem_list/',\n",
    "        problem_id=pid,\n",
    "        i=idx,\n",
    "        df=df\n",
    "    )\n",
    "\n",
    "print(df)\n",
    "print(df.shape)\n"
   ]
  },
  {
   "cell_type": "code",
   "execution_count": 7,
   "id": "60792d98-cea8-4b17-b3f0-c4b4ae3dcfbe",
   "metadata": {},
   "outputs": [
    {
     "data": {
      "text/plain": [
       "user_count\n",
       "39       1\n",
       "55       1\n",
       "12       1\n",
       "32       1\n",
       "30       1\n",
       "81       1\n",
       "68       1\n",
       "15       1\n",
       "10       1\n",
       "18       1\n",
       "16       1\n",
       "45       1\n",
       "65       1\n",
       "63       1\n",
       "31       1\n",
       "105      1\n",
       "22       1\n",
       "37       1\n",
       "44       1\n",
       "195      1\n",
       "70       1\n",
       "19       1\n",
       "42       1\n",
       "25       2\n",
       "24       2\n",
       "46       2\n",
       "8        3\n",
       "7        4\n",
       "14       5\n",
       "5        7\n",
       "6        7\n",
       "4        8\n",
       "3       17\n",
       "2       21\n",
       "1       43\n",
       "0      106\n",
       "Name: count, dtype: int64"
      ]
     },
     "execution_count": 7,
     "metadata": {},
     "output_type": "execute_result"
    }
   ],
   "source": [
    "df['user_count'].value_counts(ascending = True)"
   ]
  },
  {
   "cell_type": "code",
   "execution_count": 42,
   "id": "c94f3f18-fd53-4a02-ac20-a0e2017852d8",
   "metadata": {},
   "outputs": [
    {
     "data": {
      "text/plain": [
       "(5, 2)"
      ]
     },
     "execution_count": 42,
     "metadata": {},
     "output_type": "execute_result"
    }
   ],
   "source": [
    "df.shape"
   ]
  }
 ],
 "metadata": {
  "kernelspec": {
   "display_name": "Python [conda env:base] *",
   "language": "python",
   "name": "conda-base-py"
  },
  "language_info": {
   "codemirror_mode": {
    "name": "ipython",
    "version": 3
   },
   "file_extension": ".py",
   "mimetype": "text/x-python",
   "name": "python",
   "nbconvert_exporter": "python",
   "pygments_lexer": "ipython3",
   "version": "3.12.3"
  }
 },
 "nbformat": 4,
 "nbformat_minor": 5
}
